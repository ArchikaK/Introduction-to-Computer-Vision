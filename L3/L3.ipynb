{
 "cells": [
  {
   "cell_type": "markdown",
   "metadata": {},
   "source": [
    "# =====================================\n",
    "#  3A - L1 Camera and images\n",
    "# ====================================="
   ]
  },
  {
   "cell_type": "markdown",
   "metadata": {},
   "source": [
    "## What is an image?\n",
    "\n",
    "- In previous lesson: a function- a 2D pattern of intensity values\n",
    "- Here: 1 2D projection of 3D points\n"
   ]
  },
  {
   "cell_type": "markdown",
   "metadata": {},
   "source": [
    "## First known Photograph - Heliograph\n",
    "\n",
    "The first photograph was taken by Joseph Nicephore Niepce in 1826. The below image is a reproduction made in 1952\n",
    "\n",
    "<figure>\n",
    "  <img src=\"first_photo.jpg\" /> \n",
    "    <center><figcaption>Fig.1 The reproduction of the first photograph <a href=\"https://en.wikipedia.org/wiki/History_of_photography\">Source</a></figcaption></center>\n",
    "</figure>\n",
    "\n",
    "\n"
   ]
  },
  {
   "cell_type": "markdown",
   "metadata": {},
   "source": [
    "## Imaging System\n",
    "\n",
    "### What is a camera?\n",
    "It's some device that allows the <u>**projection**</u> of light from three dimensions, to some medium (film, sensor,..etc) that will record the light pattern.\n",
    "\n",
    "<br />\n",
    "\n",
    "When you project a scene to the camera, you lose 3D information, and you have to find out what went out in the lost dimesnion. For instance, the image below were taken by a camera from front and right side. The projection from the right side shows the realistic depection of the globe painted on the side walk. \n",
    "\n",
    "\n",
    "<br />\n",
    "\n",
    "<figure>\n",
    "  <img src=\"projection_ex.png\" />\n",
    "  <center><figcaption>Fig.2(a) Example of projection. Notice the strange guy at the top of the globe</figcaption></center>\n",
    "</figure>\n",
    "\n",
    "<br />\n",
    "<figure>\n",
    "  <img src=\"projection_ex2.png\" />\n",
    "  <center><figcaption>Fig.2(b) The real view of the projection as appears from right side</figcaption></center>\n",
    "</figure>\n"
   ]
  },
  {
   "cell_type": "markdown",
   "metadata": {},
   "source": [
    "## Image Formation\n",
    "\n",
    "As shown in figure 3(a), a light is reflected from a point to a film will create an image. However, a single point will reflect lights all over the film. In order to solve this problem, we place a barrier, with a small holes **(aperture)** in it that each will allow single light through it to the film as in figure 3(b)\n",
    "\n",
    "<br />\n",
    "<figure>\n",
    "  <img src=\"image_formation_1.png\" />\n",
    "  <center><figcaption>Fig.3(a) Light comes from a point poroject all over the film  </figcaption></center>\n",
    "</figure>\n",
    "<figure>\n",
    "  <img src=\"image_formation_2.png\" />\n",
    "  <center><figcaption>Fig.3(b) A barrier with small holls (aperture) is placed between the scene and the film to allow only single light angle to the film   </figcaption></center>\n",
    "</figure>"
   ]
  },
  {
   "cell_type": "markdown",
   "metadata": {},
   "source": [
    "## Aperture\n",
    "\n",
    "<font color=\"blue\">How does aperture affect the image that we see? How does the size affect the image?</font>\n",
    "\n",
    "The bluriness of the image is directly related to the size of the arpeture. As the arpeture size decreases, the bluriness decrease and the crisper images are produced. Aperture sizes are in mm (e.g. 2mm, 1mm, 0.6mm, and 0.35mm)\n",
    "\n",
    "<font color=\"blue\">Why not making the size very very small?</font>\n",
    "\n",
    "Because of diffraction effect due to the wave nature of light.\n",
    "\n",
    "\n",
    "<br />\n",
    "\n",
    "<figure>\n",
    "  <img src=\"starburst_night.jpg\" />\n",
    "    <center><figcaption>Fig.4 effect of aperture size on the image <a href=\"https://www.slrlounge.com/diffraction-aperture-and-starburst-effects/\">source</a> </figcaption></center>\n",
    "</figure>\n",
    "\n",
    "\n",
    "\n"
   ]
  },
  {
   "cell_type": "markdown",
   "metadata": {},
   "source": [
    "## Lenses\n",
    "\n",
    "We don't really use pinhole cameras anymore. Instead, we use lenses. Lenses are desinged to project all lights comming from a point at a particular distance away to the same point on the film. However, as in Figure 5, the challange is that lights comming from different distance will be projected at slightly different points on the film (circle of confusion)\n",
    "\n",
    "<br />\n",
    "<figure>\n",
    "  <img src=\"lenses_1.png\" />\n",
    "  <center><figcaption>Fig.5(a): Shows lenses' concept and the circle of confusion </figcaption></center>\n",
    "</figure>\n",
    "\n",
    "<font color=\"blue\">Lenses Components</font>\n",
    "- Optical axis: light passes straight through unbent\n",
    "- Paralell lights are all bent to the same point\n",
    "- Focal point: a point where parallel lights are bent to\n",
    "- Aperture: to reduce the amount of spread of things, by restricting the set of rays that are coming in.\n",
    "\n",
    "<br />\n",
    "\n",
    "<figure>\n",
    "  <img src=\"lenses_2.png\" />\n",
    "  <center><figcaption>Fig.5(b): Shows lenses' components</figcaption></center>\n",
    "</figure>"
   ]
  },
  {
   "cell_type": "markdown",
   "metadata": {},
   "source": [
    "## Thin Lenses\n",
    "\n",
    "<br/>\n",
    "<br/>\n",
    "<figure>\n",
    "  <img src=\"thin_lenses.png\" />\n",
    "  <center><figcaption>Fig.6(a) depicts thin lenses</figcaption></center>\n",
    "</figure>\n",
    "\n",
    "<figure>\n",
    "  <img src=\"thin_lenses_2.png\" />\n",
    "  <center><figcaption>Fig.6(b) film lens diagram</figcaption></center>\n",
    "</figure>\n",
    "<figure>\n",
    "  <img src=\"thin_lenses_3.png\" />\n",
    "  <center><figcaption>Fig.6(c) film lens diagram</figcaption></center>\n",
    "</figure>\n",
    "\n",
    "<font color=\"blue\">Can we predict the relationship between, say $d_0$ and $d_i$ given lens with a given focal point where $d_0$ is the distance of the object, and $d_i$ is the distance from the lens to the image (Figure 6(a))?</font><br />\n",
    "\n",
    "Using similar triangles in Figure 6(b), we can reason that given the point $P$ at $y$ and projected at point $P'$ at $-y$ \n",
    "\n",
    "$$\\frac{-y'}{y} = \\frac{||z'||}{||z||}$$\n",
    "\n",
    "Also, using similar triangles in Figure 6(c), we can reason that\n",
    "\n",
    "$$\\frac{-y'}{y} = \\frac{||z'|| - f}{f}$$\n",
    "\n",
    "\n",
    "$$\\implies \\frac{1}{||z||} = \\frac{1}{f} - \\frac{1}{||z'||}$$\n",
    "\n",
    "$$\\implies \\frac{1}{f} =  \\frac{1}{||z||} + \\frac{1}{||z'||}$$ \n",
    "<br/>\n",
    "<center>(Thin Lense Equation)</center>\n",
    "\n",
    "\n",
    "$y$: height of a point from the optical axis <br/>\n",
    "$y'$: height of the projection of $P$ from the optical axis <br/>\n",
    "$z$: distance to the world <br/>\n",
    "$z'$: distance from lense to the image plane <br/>\n",
    "\n",
    "<font color=\"green\">So, any point that satisfy the thin lense Equation will be in focus. Hence, by moving the lense back and forward, we change where in the world things are in focus</font> <br />\n",
    "\n",
    "\n",
    "Check out: http://www.phy.ntnu.edu.tw/ntnujava/index.php?topic=48\n",
    "\n",
    "<br />\n",
    "\n",
    "<font color=\"blue\">**Quize**</font>\n",
    "\n",
    "<figure>\n",
    "  <img src=\"thin_lenses_quiz.png\" />\n",
    "  <center><figcaption>Fig.6(d): Thin lense quiz</figcaption></center>\n",
    "</figure>\n"
   ]
  },
  {
   "cell_type": "code",
   "execution_count": 4,
   "metadata": {},
   "outputs": [
    {
     "name": "stdout",
     "output_type": "stream",
     "text": [
      "When Z1 == 1000.000000, Z' == 52.631579\n",
      "When Z1 == 2000.000000, Z' == 51.282051\n"
     ]
    }
   ],
   "source": [
    "f = 50.0\n",
    "z = [1000.0,2000.0] # in mm\n",
    "for zi in z:\n",
    "    zp = 1/(1/f - 1/zi)\n",
    "    print(\"When Z1 == %f, Z' == %f\" % (zi,zp))"
   ]
  },
  {
   "cell_type": "markdown",
   "metadata": {},
   "source": [
    "## Varying Focus\n",
    "\n",
    "<br />\n",
    "\n",
    "<figure>\n",
    "  <img src=\"varying_focus.gif\" />\n",
    "    <center><figcaption>Fig.7: The effect of varying focus <a href=\"https://www269.lunapic.com/editor/?action=focus-anim\"> Source</a></figcaption></center>\n",
    "</figure>"
   ]
  },
  {
   "cell_type": "markdown",
   "metadata": {},
   "source": [
    "## Depth of field\n",
    "\n",
    "It is concerned with how much of focus change occurs for a certain point as the lense move in and out. The DoF is controlled by the aperture. With wide aperture, the rays diverge quite a bit, and hence moving the plane in a little bit cause the rays to spread out alot. On the other hand, with smaller aperture, the spread is much less as the plane is moving in (Figure 8a,b). \n",
    "\n",
    "\n",
    "<br />\n",
    "\n",
    "<figure>\n",
    "  <img src=\"dof.png\" />\n",
    "    <center><figcaption>Fig.8 (a): depth of field <a href=\"http://en.wikipedia.org/wiki/Depth_of_field\">Source</a></figcaption></center>\n",
    "</figure>\n",
    "\n",
    "<br />\n",
    "\n",
    "<figure>\n",
    "  <img src=\"dof2.jpg\" />\n",
    "    <center><figcaption>Fig.8 (b): change of aperture <a href=\"http://rubbingpixels.com/depth-field-used-photography/\">Source</a></figcaption></center>\n",
    "</figure>"
   ]
  },
  {
   "cell_type": "markdown",
   "metadata": {},
   "source": [
    "## Field of View (zooming)\n",
    "\n",
    "How wide of a view do we have. There are two types of lens that can change their field of view:\n",
    "\n",
    "1. changing focal lenght while staying in constant focus\n",
    "2. changing focal length but must refocus (variable focal length lenses)\n",
    "\n",
    "When the focal length is high, the angular deflection moves the pixels drastically and thus any shake in the camera will shake the image greatly. So the more the focal length, the more we need to stabilize the camera. \n",
    "\n",
    "\n",
    "<br />\n",
    "\n",
    "<figure>\n",
    "  <img src=\"fov2.jpg\" />\n",
    "  <center><figcaption>Fig.9 (a): change in field of view as we change focal length <a href=\"http://www.capturedbyone.com/cbo-blog/know-your-focal-length-and-lens-field-of-view\">Source</a></figcaption></center>\n",
    "</figure>\n",
    "\n",
    "<br />\n",
    "\n",
    "<figure>\n",
    "  <img src=\"fov.jpg\" />\n",
    "  <center><figcaption>Fig.9 (b): example change in field of view as we change focal length <a href=\"https://www.bhphotovideo.com/explora/photography/buying-guide/prime-lens-101\">Source</a></figcaption></center>\n",
    "</figure>\n",
    "\n",
    "###  FOV depends on Focal Length\n",
    "\n",
    "<br />\n",
    "<figure>\n",
    "  <img src=\"fov3.png\" />\n",
    "  <center><figcaption>Fig.9 (c): Calculating FOV </figcaption></center>\n",
    "</figure>\n",
    "\n",
    "The field of view can be calculated by calculating the angle $\\phi$ depected in Figure 9(c). \n",
    "\n",
    "$$\\phi = tan^-1(\\frac{d/2}{f})$$\n",
    "\n",
    "$d$: the retina or sensor size\n",
    "\n",
    "<font color=\"green\">Larger Focul Length $\\implies$ Smaller FOV <br/></font>\n",
    "<font color=\"green\">Bigger the imaging surface $\\implies$ Bigger FOV</font>\n",
    "\n",
    "<br />\n",
    "\n",
    "<font color=\"blue\">**Quize**</font>\n",
    "\n",
    "<figure>\n",
    "  <img src=\"fov_quiz.png\" />\n",
    "  <center><figcaption>Fig.9(d): Field of view quiz</figcaption></center>\n",
    "</figure>\n",
    "\n",
    "\n",
    "\n",
    "$$\\frac{1}{f} =  \\frac{1}{||z||} + \\frac{1}{||z'||}$$\n",
    "$$\\implies \\frac{1}{f} =  \\frac{z' + z}{z'z}$$\n",
    "$$\\implies fz' + fz = zz'$$\n",
    "$$\\implies fz' = zz' - fz$$\n",
    "$$\\implies fz' = z(z' - f)$$\n",
    "$$\\implies z = \\frac{z'f}{z'-f} \\,\\,(1)$$  \n",
    "\n",
    "\n",
    "<br />\n",
    "\n",
    "$$\\frac{d/2}{z'} =  \\frac{w/2}{z}$$\n",
    "$$\\implies z =  \\frac{w/d}{z'} \\,\\,(2)$$ \n",
    "\n",
    "<br />\n",
    "\n",
    "<center>from 1 & 2</center>\n",
    "\n",
    "\n",
    "$$\\implies \\frac{z'f}{z'-f} =  \\frac{w/d}{z'}$$\n",
    "$$\\implies w(z'-f) =  df$$\n",
    "$$\\implies z' -f  =  \\frac{df}{w}$$\n",
    "$$\\implies z'  =  \\frac{df}{w} + f$$"
   ]
  },
  {
   "cell_type": "code",
   "execution_count": 8,
   "metadata": {},
   "outputs": [
    {
     "name": "stdout",
     "output_type": "stream",
     "text": [
      "1.05 52.5\n"
     ]
    }
   ],
   "source": [
    "import numpy as np\n",
    "w = 0.7*1000 #to mm\n",
    "f = 50\n",
    "d = 35\n",
    "zp = d*f/w + f ## df/w + f\n",
    "z = zp*w/d ## z = z'w/d\n",
    "\n",
    "print(z/1000,zp) # to m"
   ]
  },
  {
   "attachments": {},
   "cell_type": "markdown",
   "metadata": {},
   "source": [
    "## Zooming and Moving are not the same\n",
    "\n",
    "In Figure 10(a), the image on the left image were taken with a large FOV, and small $f$ while the camera is close to the car. The image on the right, on the other hand, is taken with small FOV, and large $f$ while the camera is far from the car. You can notice that the shape is different. The left image has what is called *Perspctive Distortion*. \n",
    "\n",
    "Figure 10(b) gives another example of *Perspctive Distortion* as we minimize $f$ and move closer to the face\n",
    "\n",
    "<br />\n",
    "\n",
    "<figure>\n",
    "  <img src=\"zoomingvsmoving.png\" />\n",
    "  <center><figcaption>Fig.10 (a): zooming vs moving </figcaption></center>\n",
    "</figure>\n",
    "<br />\n",
    "<figure>\n",
    "  <img src=\"zoomingvsmoving2.png\" />\n",
    "  <center><figcaption>Fig.10 (b): zooming vs moving </figcaption></center>\n",
    "</figure>"
   ]
  },
  {
   "cell_type": "markdown",
   "metadata": {},
   "source": [
    "## Dolly Zoom\n",
    "\n",
    "When the camera move closer and closer to an object while widening the lense at the same time, the object in the middle will have the same size, and to maintain its stationary point. However, this will create an illusionary scene where the stuff on the outside will grow. \n",
    "\n",
    "<br />\n",
    "\n",
    "<figure>\n",
    "  <img src=\"zvmi3.gif\" />\n",
    "  <center><figcaption>Fig.11: Dolly Zoom</figcaption></center>\n",
    "</figure>"
   ]
  },
  {
   "cell_type": "markdown",
   "metadata": {},
   "source": [
    "## Lenses Are Not Perfect\n",
    "\n",
    "There are many problems that might arise from lenses, photographers, or the scene.\n",
    "\n",
    "### Geometric Distortion\n",
    "\n",
    "You can correct geometric distortion in post-imaging tools like photoshop if you know the focal length of your camera Figure 12(b)\n",
    "\n",
    "<br />\n",
    "<figure>\n",
    "  <img src=\"gmd.png\" />\n",
    "  <center><figcaption>Fig.12 (a): Geometric Distortion</figcaption></center>\n",
    "</figure>\n",
    "\n",
    "<br />\n",
    "<figure>\n",
    "  <img src=\"gmdc.png\" />\n",
    "  <center><figcaption>Fig.12 (b): Correction of Radial Distortion</figcaption></center>\n",
    "</figure>\n",
    "\n",
    "### Chromatic Aberration\n",
    "\n",
    "This problem happens when rays of different wavelength focus in different planes. The problem is how to get all lights from a certain point to land on same point on the image. Notice the red line in the bigger picture in Figure 12(d)\n",
    "\n",
    "<br />\n",
    "<figure>\n",
    "  <img src=\"chrabb.png\" />\n",
    "  <center><figcaption>Fig.12 (c): Chromatic Aberration</figcaption></center>\n",
    "</figure>\n",
    "\n",
    "<br />\n",
    "<figure>\n",
    "  <img src=\"chrabb2.png\" />\n",
    "  <center><figcaption>Fig.12 (d): Chromatic Aberration Example</figcaption></center>\n",
    "</figure>\n",
    "\n",
    "### Vignetting\n",
    "\n",
    "With some camera settings, not all rays that are hitting in the middle of the image are being caught at the corners. \n",
    "\n",
    "\n",
    "<br />\n",
    "<figure>\n",
    "<img src=\"vignetting2.png\" />\n",
    "  <center><figcaption>Fig.12 (e): Vignetting <a href=\"https://photographylife.com/what-is-vignetting\">Source</a></figcaption></center>\n",
    "</figure>\n",
    "\n",
    "<br />\n",
    "<figure>\n",
    "<img src=\"vignetting3.jpg\" />\n",
    "  <center><figcaption>Fig.12 (f): Example of Vignetting <a href=\"https://forums.bohemia.net/forums/topic/146786-vignetting/\">Source</a></figcaption></center>\n",
    "</figure>"
   ]
  },
  {
   "cell_type": "markdown",
   "metadata": {},
   "source": [
    "## Lense Systems\n",
    "\n",
    "Advanced cameras have multiple lenses. The camera in Figure 13 has 15 lenses that change according to the need.  \n",
    "\n",
    "\n",
    "<br />\n",
    "\n",
    "<figure>\n",
    "  <img src=\"lenses_system.png\" />\n",
    "  <center><figcaption>Fig.13: Example of advanced camera lenses</figcaption></center>\n",
    "</figure>"
   ]
  },
  {
   "cell_type": "code",
   "execution_count": null,
   "metadata": {},
   "outputs": [],
   "source": []
  },
  {
   "cell_type": "code",
   "execution_count": null,
   "metadata": {},
   "outputs": [],
   "source": []
  },
  {
   "cell_type": "code",
   "execution_count": null,
   "metadata": {},
   "outputs": [],
   "source": []
  },
  {
   "cell_type": "code",
   "execution_count": null,
   "metadata": {},
   "outputs": [],
   "source": []
  },
  {
   "cell_type": "code",
   "execution_count": null,
   "metadata": {},
   "outputs": [],
   "source": [
    "<a href=\"\">Source</a>"
   ]
  },
  {
   "cell_type": "code",
   "execution_count": null,
   "metadata": {},
   "outputs": [],
   "source": [
    "<font color=\"blue\"></font>"
   ]
  },
  {
   "cell_type": "markdown",
   "metadata": {},
   "source": [
    "<br />\n",
    "\n",
    "<figure>\n",
    "  <img src=\"\" />\n",
    "  <center><figcaption>Fig.</figcaption></center>\n",
    "</figure>"
   ]
  },
  {
   "cell_type": "code",
   "execution_count": null,
   "metadata": {},
   "outputs": [],
   "source": []
  }
 ],
 "metadata": {
  "kernelspec": {
   "display_name": "Python 3",
   "language": "python",
   "name": "python3"
  },
  "language_info": {
   "codemirror_mode": {
    "name": "ipython",
    "version": 3
   },
   "file_extension": ".py",
   "mimetype": "text/x-python",
   "name": "python",
   "nbconvert_exporter": "python",
   "pygments_lexer": "ipython3",
   "version": "3.7.0"
  }
 },
 "nbformat": 4,
 "nbformat_minor": 2
}
