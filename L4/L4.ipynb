{
 "cells": [
  {
   "cell_type": "markdown",
   "metadata": {},
   "source": [
    "# =====================================\n",
    "#  4A - L1 Introduction to \"features\"\n",
    "# ====================================="
   ]
  },
  {
   "cell_type": "markdown",
   "metadata": {},
   "source": [
    "## Image Point Matching Problem\n",
    "\n",
    "- Suppose I have two images related by some transformation Or have two images of the same object in different positions.\n",
    "- How to find the transformation of image 1 that would align it with image 2\n",
    "\n",
    "\n",
    "<br />\n",
    "<figure>\n",
    "  <img src=\"imgs/transformation.png\" />\n",
    "  <center><figcaption>Fig.1(a): Transformation</figcaption></center>\n",
    "</figure>\n",
    "\n",
    "### We want Local$ ^{(1)}$ Features$ ^{(2)}$\n",
    "\n",
    "*Not machine learning features, but things that we compute about little region or spots*\n",
    "\n",
    "- Goal: Find point in an image that can be:\n",
    "    - Found in other images\n",
    "    - Found precisely - well localized\n",
    "    - Found reliably - well matched\n",
    "    \n",
    "Why?\n",
    "\n",
    "- Want to compute a fundamental matrix to recover geometry\n",
    "- Robotics/vision: See how a bunch of points move from one frame to another. Allows computation of how camera moved -> depth -> moving objects\n",
    "- Build a panorama\n",
    "\n",
    "\n",
    "<br />\n",
    "<figure>\n",
    "  <img src=\"imgs/building_panorama.gif\" />\n",
    "  <center><figcaption>Fig.1(b): Building panorama</figcaption></center>\n",
    "</figure>\n",
    "\n"
   ]
  },
  {
   "cell_type": "markdown",
   "metadata": {},
   "source": [
    "## Matching with Features\n",
    "\n",
    "- Detect features (features points) in both images\n",
    "- Match features - find corresponding pairs\n",
    "- Use these pairs to align images\n",
    "\n",
    "<br />\n",
    "<figure>\n",
    "  <img src=\"imgs/detecting_points.png\" />\n",
    "  <center><figcaption>Fig.2(a): Similar Points</figcaption></center>\n",
    "</figure>\n",
    "<figure>\n",
    "  <img src=\"imgs/detecting_points2.png\" />\n",
    "  <center><figcaption>Fig.2(b): Result</figcaption></center>\n",
    "</figure>\n",
    "\n",
    "- Problem 1:\n",
    "    - Detec the same point independently in both\n",
    "<br />\n",
    "<br />\n",
    "<figure>\n",
    "  <img src=\"imgs/detecting_points3.png\" />\n",
    "  <center><figcaption>Fig.2 (c): No chance to match</figcaption></center>\n",
    "</figure>\n",
    "\n",
    "<center><font color=\"green\">We need a repeatable detector</font></center>\n",
    "\n",
    "\n",
    "- Problem 2:\n",
    "    - For each point correctly recognize the corresponding one\n",
    "<br />\n",
    "<br />\n",
    "<figure>\n",
    "  <img src=\"imgs/detecting_points3.png\" />\n",
    "  <center><figcaption>Fig.2 (d): Which point is which</figcaption></center>\n",
    "</figure>\n",
    "\n",
    "<center><font color=\"green\">We need a reliable and distinctive descriptor</font></center>\n",
    "\n",
    "\n",
    "### More motivation...\n",
    "\n",
    "- Feature points are used also for:\n",
    "    - Image alignment (e.g. homography or fundamental matrix)\n",
    "    - 3D reconstruction\n",
    "    - Mortion tracking\n",
    "    - Object recognition\n",
    "    - Indexing and database retrieval\n",
    "    - Robot navigation\n",
    "    - ... Other"
   ]
  },
  {
   "cell_type": "markdown",
   "metadata": {},
   "source": [
    "<font color=\"blue\">**Quize**</font>\n",
    "\n",
    "<figure>\n",
    "  <img src=\"imgs/good_feature_quiz.png\" />\n",
    "  <center><figcaption>Good feature quize</figcaption></center>\n",
    "</figure>"
   ]
  },
  {
   "cell_type": "markdown",
   "metadata": {},
   "source": [
    "## Characteristics of Good Features\n",
    "\n",
    "### Repeatability/Precision\n",
    "- The same feature can be found in several images despite geometric and photometric transformation\n",
    "\n",
    "### Saliency/Matchability\n",
    "- Each feature has a distinctive description\n",
    "\n",
    "### Compactness and efficiency\n",
    "- Many fewer features than image pixels\n",
    "\n",
    "### Locality\n",
    "- A feature occupies a relatively small area of the image; robust to clutter and occlusion\n"
   ]
  },
  {
   "cell_type": "code",
   "execution_count": null,
   "metadata": {},
   "outputs": [],
   "source": []
  },
  {
   "cell_type": "code",
   "execution_count": null,
   "metadata": {},
   "outputs": [],
   "source": [
    "<font color=\"green\"></font>"
   ]
  },
  {
   "cell_type": "markdown",
   "metadata": {},
   "source": [
    "<br />\n",
    "<figure>\n",
    "  <img src=\"imgs/transformation.png\" />\n",
    "  <center><figcaption>Fig.1(a): Transformation</figcaption></center>\n",
    "</figure>"
   ]
  }
 ],
 "metadata": {
  "kernelspec": {
   "display_name": "Python 3",
   "language": "python",
   "name": "python3"
  },
  "language_info": {
   "codemirror_mode": {
    "name": "ipython",
    "version": 3
   },
   "file_extension": ".py",
   "mimetype": "text/x-python",
   "name": "python",
   "nbconvert_exporter": "python",
   "pygments_lexer": "ipython3",
   "version": "3.7.0"
  }
 },
 "nbformat": 4,
 "nbformat_minor": 2
}
