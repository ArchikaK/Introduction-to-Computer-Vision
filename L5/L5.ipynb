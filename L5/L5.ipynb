{
 "cells": [
  {
   "cell_type": "markdown",
   "metadata": {},
   "source": [
    "# =====================================\n",
    "# 5A - L1 Photometry\n",
    "# ====================================="
   ]
  },
  {
   "cell_type": "markdown",
   "metadata": {},
   "source": [
    "## Photometry\n",
    "\n",
    "### Measuring light\n",
    "\n",
    "\n",
    "<br />\n",
    "<figure>\n",
    "  <img src=\"imgs/measuring_light.png\" />\n",
    "  <center><figcaption>Fig.1 (a): The lighting hit the scene and get reflected to the camera according the physical models and the processed image in the camera get stored in the computer</figcaption></center>\n",
    "</figure>\n",
    "\n",
    "\n",
    "### Lights, surface, and shadows\n",
    "\n",
    "\n",
    "<br />\n",
    "<figure>\n",
    "  <img src=\"imgs/photometry2.png\" />\n",
    "  <center><figcaption>Fig.1 (b): The surface on the road is clearly a shadow and not a texture. But it might have been painted and your brain was tricked</figcaption></center>\n",
    "</figure>\n",
    "\n",
    "\n",
    "### Reflections\n",
    "\n",
    "<br />\n",
    "<figure>\n",
    "  <img src=\"imgs/photometry3.png\" />\n",
    "  <center><figcaption>Fig.1 (c): The image on the right looks like a reflection. The image on the left is also look like a reflection but a little bit distorted because of the glass</figcaption></center>\n",
    "</figure>\n",
    "\n",
    "### Refraction\n",
    "\n",
    "<br />\n",
    "<figure>\n",
    "  <img src=\"imgs/photometry4.png\" />\n",
    "  <center><figcaption>Fig.1 (d): Refraction is mostly seen in water or deformed glass. The image on the right has both reflection and refraction</figcaption></center>\n",
    "</figure>\n",
    "\n",
    "### Interreflection\n",
    "\n",
    "<br />\n",
    "<figure>\n",
    "  <img src=\"imgs/photometry5.png\" />\n",
    "  <center><figcaption>Fig.1 (e):  As light bounces around, objects get reflected in-between surfaces</figcaption></center>\n",
    "</figure>\n",
    "\n",
    "### Scattering\n",
    "\n",
    "<br />\n",
    "<figure>\n",
    "  <img src=\"imgs/photometry6.png\" />\n",
    "  <center><figcaption>Fig.1 (f): the impact of moisture or any other factor on the image that enter the eye or the camera</figcaption></center>\n",
    "</figure>"
   ]
  },
  {
   "cell_type": "markdown",
   "metadata": {},
   "source": [
    "## Surface Appearance\n",
    "\n",
    "\n",
    "<br />\n",
    "<figure>\n",
    "  <img src=\"imgs/surface_element1.png\" />\n",
    "  <center><figcaption>Fig.2</figcaption></center>\n",
    "</figure>\n",
    "\n",
    "- Image intensity = $f$(normal, surface reflectance, illumination)\n",
    "- Surface reflection depends on both the viewing and illumination direction\n"
   ]
  },
  {
   "cell_type": "markdown",
   "metadata": {},
   "source": [
    "## Radiometry Radiance\n",
    "\n",
    "<div class=\"container\" style=\"width: 100%;\">\n",
    "    <div class=\"sidebar\" style=\"width: 280px; float: left;\">\n",
    "        <br/>\n",
    "        <br/>\n",
    "        <font color=\"blue\">Radiance</font>(L): Energy carried by a ray <br/>\n",
    "        - Power per unit area <font color=\"green\">perpendicular to direction of travel</font>, per unit solid angle<br/>\n",
    "        - Units: Watts per square meter per steradian ($Wm^{-2}sr^{-1}$)\n",
    "    </div>\n",
    "    <div class=\"content\" style=\"margin-left: 140px;\">\n",
    "        <figure>\n",
    "          <img src=\"imgs/radiometry.png\" />\n",
    "          <center><figcaption>Fig.3 (a)</figcaption></center>\n",
    "        </figure>\n",
    "    </div>\n",
    "</div>\n",
    "\n",
    "\n",
    "## Radiometry Irradiance\n",
    "\n",
    "\n",
    "<div class=\"container\" style=\"width: 100%;\">\n",
    "    <div class=\"sidebar\" style=\"width: 280px; float: left;\">\n",
    "        <br/>\n",
    "        <br/>\n",
    "        <font color=\"blue\">Irradiance</font>(E): Energy arriving at a surface<br />\n",
    "        - Incident power in a given direction, per unit area<br/>\n",
    "        - Units: $Wm^{-2}$\n",
    "    </div>\n",
    "    <div class=\"content\" style=\"margin-left: 140px;\">\n",
    "        <figure>\n",
    "          <img src=\"imgs/radiometry2.png\" />\n",
    "          <center><figcaption>Fig.3(b)</figcaption></center>\n",
    "        </figure>\n",
    "    </div>\n",
    "</div>\n",
    "\n",
    "### Foreshortening: A simple observation\n",
    "<br />\n",
    "<figure>\n",
    "  <img src=\"imgs/radiometry3.png\" />\n",
    "  <center><figcaption>Fig.3(c) if the card was perpendicular (left), a certain amout of light will fall on it. If it was telted (right), than that amount will get spread over larger area, and thus we get less light per unit area from that light source  </figcaption></center>\n",
    "</figure>\n",
    "\n",
    "\n",
    "For a surface receiving radiance <font color=\"blue\">$L(\\theta, \\varphi)$</font>coming in from <font color=\"blue\">$d\\omega$</font> the corresponding irradiance is \n",
    "<br/>\n",
    "<br/>\n",
    "<font color=\"blue\">$$E(\\theta,\\varphi) = L(\\theta,\\varphi)cos(\\theta) d\\omega$$</font>"
   ]
  },
  {
   "cell_type": "code",
   "execution_count": null,
   "metadata": {},
   "outputs": [],
   "source": []
  },
  {
   "cell_type": "code",
   "execution_count": null,
   "metadata": {},
   "outputs": [],
   "source": []
  },
  {
   "cell_type": "code",
   "execution_count": null,
   "metadata": {},
   "outputs": [],
   "source": []
  },
  {
   "cell_type": "code",
   "execution_count": null,
   "metadata": {},
   "outputs": [],
   "source": []
  },
  {
   "cell_type": "code",
   "execution_count": null,
   "metadata": {},
   "outputs": [],
   "source": []
  },
  {
   "cell_type": "markdown",
   "metadata": {},
   "source": [
    "<div class=\"container\" style=\"width: 100%;\">\n",
    "    <div class=\"sidebar\" style=\"width: 200px; float: left;\">\n",
    "        <br />\n",
    "<figure>\n",
    "  <img src=\"imgs/robustestimator.png\" />\n",
    "  <center><figcaption>Fig.37</figcaption></center>\n",
    "</figure>\n",
    "    </div>\n",
    "    <div class=\"content\" style=\"margin-left: 202px;\">\n",
    "        The Robust function $\\varrho$ behaves like squared distance for small values of the residual $u$ but saturates for larger values of $u$\n",
    "    </div>\n",
    "</div>\n",
    "\n"
   ]
  },
  {
   "cell_type": "code",
   "execution_count": null,
   "metadata": {},
   "outputs": [],
   "source": [
    "<font color=\"green\"></font>\n",
    "<font color=\"blue\"></font>"
   ]
  },
  {
   "cell_type": "code",
   "execution_count": null,
   "metadata": {},
   "outputs": [],
   "source": [
    "<br />\n",
    "<figure>\n",
    "  <img src=\"imgs/reco_under_occ.png\" />\n",
    "  <img src=\"imgs/reco_under_occ2.png\" />\n",
    "  <center><figcaption>Fig.28 Recognition example </figcaption></center>\n",
    "</figure>"
   ]
  }
 ],
 "metadata": {
  "kernelspec": {
   "display_name": "Python 3",
   "language": "python",
   "name": "python3"
  },
  "language_info": {
   "codemirror_mode": {
    "name": "ipython",
    "version": 3
   },
   "file_extension": ".py",
   "mimetype": "text/x-python",
   "name": "python",
   "nbconvert_exporter": "python",
   "pygments_lexer": "ipython3",
   "version": "3.7.0"
  }
 },
 "nbformat": 4,
 "nbformat_minor": 2
}
