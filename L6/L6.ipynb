{
 "cells": [
  {
   "cell_type": "markdown",
   "metadata": {},
   "source": [
    "# =====================================\n",
    "# 6A - L1 Introduction to Motion\n",
    "# ====================================="
   ]
  },
  {
   "cell_type": "markdown",
   "metadata": {},
   "source": [
    "## Visual Motion\n",
    "<br />\n",
    "<figure>\n",
    "    <img src=\"imgs/L61.gif\" />\n",
    "    <center><figcaption>Fig.1(a): example of gif</figcaption></center>\n",
    "</figure>\n",
    "\n",
    "## Video \n",
    "\n",
    "A video is a sequene of frames captured over time - usually quickly\n",
    "\n",
    "- Now our image data is a function of smape (x,y) and time (t)\n",
    "\n",
    "<br />\n",
    "<figure>\n",
    "    <img src=\"imgs/L62.png\" />\n",
    "    <center><figcaption>Fig.1(b)</figcaption></center>\n",
    "</figure>"
   ]
  },
  {
   "cell_type": "markdown",
   "metadata": {},
   "source": [
    "## Motion Applications: Bideo segmentation\n",
    "\n",
    "**Background subtraction**\n",
    "\n",
    "- A static camera is observing a scene\n",
    "- Goal: seperate the static background from the moving foreground\n",
    "\n",
    "<br />\n",
    "<figure>\n",
    "    <img src=\"imgs/L63.png\" />\n",
    "    <center><figcaption>Fig.2(a)</figcaption></center>\n",
    "</figure>\n",
    "\n",
    "**Shot boundary detection**\n",
    "\n",
    "\n",
    "<br />\n",
    "<figure>\n",
    "    <img src=\"imgs/L64.png\" />\n",
    "    <center><figcaption>Fig.2(b)</figcaption></center>\n",
    "</figure>\n",
    "\n",
    "**Motion segmentation**\n",
    "- Segment the video into multiple coherently moving objects\n",
    "\n",
    "<br />\n",
    "<figure>\n",
    "    <img src=\"imgs/L65.png\" />\n",
    "    <center><figcaption>Fig.2(c)</figcaption></center>\n",
    "</figure>"
   ]
  },
  {
   "cell_type": "markdown",
   "metadata": {},
   "source": [
    "## Motion and perceptual organization\n",
    "\n",
    "- Gestalt psychology (Wertheimer, 1880-1943)\n",
    "<br />\n",
    "<figure>\n",
    "    <img src=\"imgs/L66.png\" />\n",
    "    <center><figcaption>Fig.3(a)</figcaption></center>\n",
    "</figure>\n",
    "\n",
    "- Sometimes, motion is the only cue\n",
    "\n",
    "<br />\n",
    "<figure>\n",
    "    <img src=\"imgs/L67.png\" width=\"200px\" />\n",
    "    <img src=\"imgs/L68.png\" width=\"200px\"/>\n",
    "    <img src=\"imgs/L69.gif\" width=\"200px\"/>\n",
    "    <center><figcaption>Fig.3(b)</figcaption></center>\n",
    "</figure>"
   ]
  },
  {
   "cell_type": "markdown",
   "metadata": {},
   "source": [
    "## Impverished Motion\n",
    "\n",
    "- Even \"impoverished\" motion data can evoke a strong percept\n",
    "\n",
    "<br />\n",
    "<figure>\n",
    "    <img src=\"imgs/L610.png\" width=\"200px\"/>\n",
    "    <img src=\"imgs/L611.gif\" width=\"200px\"/>\n",
    "    <center><figcaption>Fig.4: notice the center point is not moving. Focus on it and you see how weird it is. Try to take it out of your head after that !!!</figcaption></center>\n",
    "</figure>"
   ]
  },
  {
   "cell_type": "markdown",
   "metadata": {},
   "source": [
    "## Quiz\n",
    "\n",
    "Examples of Impoverished Motion\n",
    "\n",
    "Video: <a href=\"https://www.youtube.com/watch?v=1F5ICP9SYLU\">2-Dimensional Motion Perception</a>\n",
    "\n"
   ]
  },
  {
   "cell_type": "markdown",
   "metadata": {},
   "source": [
    "## More Applications of Motion Analysis\n",
    "\n",
    "### Mosaicing\n",
    "\n",
    "<br />\n",
    "<figure>\n",
    "    <img src=\"imgs/L612.png\" width=\"400px\" />\n",
    "    <img src=\"imgs/L613.png\" width=\"400px\"/>\n",
    "    <center><figcaption>Fig.5</figcaption></center>\n",
    "</figure>\n",
    "\n",
    "- **Segmentation of objects in space or time**\n",
    "- **Estimating 3D structure**\n",
    "- **Learning dynamical models - how things move**\n",
    "- **Recognizing events and activities**\n",
    "- **Improving video quality (motion stabilization)**\n"
   ]
  },
  {
   "cell_type": "markdown",
   "metadata": {},
   "source": [
    "## Motion Estimation Techniques\n",
    "\n",
    "**Featured-based methods**\n",
    "\n",
    "- Extract visual features (corners, textured areas) and track them over multiple frames\n",
    "- Sparse motion fields, but more robust tracking\n",
    "- Suitable when image motion is large (10s of pixels)\n",
    "\n",
    "**Direct, dense methods**\n",
    "\n",
    "- Directly recover image motion at each pixel from spatio-temporal image brightness variations\n",
    "- Dense motion fields, but sensitive to appearance variations\n",
    "- Suitable for video and whn image motion is small\n",
    "\n",
    "\n",
    "\n",
    "\n",
    "<br />\n",
    "<figure>\n",
    "    <img src=\"imgs/L612.png\" width=\"200px\" />\n",
    "    <img src=\"imgs/L613.gif\" width=\"200px\"/>\n",
    "    <center><figcaption>Fig.5</figcaption></center>\n",
    "</figure>"
   ]
  },
  {
   "cell_type": "code",
   "execution_count": null,
   "metadata": {},
   "outputs": [],
   "source": []
  }
 ],
 "metadata": {
  "kernelspec": {
   "display_name": "Python 3",
   "language": "python",
   "name": "python3"
  },
  "language_info": {
   "codemirror_mode": {
    "name": "ipython",
    "version": 3
   },
   "file_extension": ".py",
   "mimetype": "text/x-python",
   "name": "python",
   "nbconvert_exporter": "python",
   "pygments_lexer": "ipython3",
   "version": "3.7.0"
  }
 },
 "nbformat": 4,
 "nbformat_minor": 2
}
