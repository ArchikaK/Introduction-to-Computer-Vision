{
 "cells": [
  {
   "cell_type": "markdown",
   "metadata": {},
   "source": [
    "# =====================================\n",
    "# 9A-L1 Color spaces\n",
    "# ====================================="
   ]
  },
  {
   "cell_type": "markdown",
   "metadata": {},
   "source": [
    "## Cones\n",
    "\n",
    "### Light Detection: Rods and Cones\n",
    "\n",
    "<br/>\n",
    "<figure>\n",
    "    <img src=\"imgs/L91.png\" width=400/>\n",
    "    <center><figcaption>Fig 1(a): anatomybox.com/retina-sem</figcaption></center>\n",
    "</figure>\n",
    "\n",
    "Cones:\n",
    "\n",
    "- 6-7 million cones in the retina\n",
    "- Responsible for high-resolution vision\n",
    "- Discriminate <font size=6>$\\color{red}{c}\\color{maroon}{o}\\color{blue}{l}\\color{green}{o}\\color{pink}{r}\\color{yellow}{s}$</font>\n",
    "- There are three types of color sensors: $64\\%\\,\\color{red}{\\text{ red, }}32\\%\\color{green}{\\text{ green, }}2\\%\\color{blue}{\\text{ blue}}$\n",
    "\n",
    "<br/>\n",
    "<figure>\n",
    "    <img src=\"imgs/L92.png\" width=400/>\n",
    "    <center><figcaption>Fig 1(b)</figcaption></center>\n",
    "</figure>\n",
    "\n",
    "<br/>\n",
    "<figure>\n",
    "    <img src=\"imgs/L93.png\" width=400/>\n",
    "    <center><figcaption>Fig 1(c): Retina Mosaic</figcaption></center>\n",
    "</figure>"
   ]
  },
  {
   "cell_type": "markdown",
   "metadata": {},
   "source": [
    "## <font color=\"red\">Wait!!! I am going to the Camp Nue for FC Barcelona vs Liverpool FC champions leage semi-final match. I will be back </font>"
   ]
  }
 ],
 "metadata": {
  "kernelspec": {
   "display_name": "Python 3",
   "language": "python",
   "name": "python3"
  },
  "language_info": {
   "codemirror_mode": {
    "name": "ipython",
    "version": 3
   },
   "file_extension": ".py",
   "mimetype": "text/x-python",
   "name": "python",
   "nbconvert_exporter": "python",
   "pygments_lexer": "ipython3",
   "version": "3.7.0"
  }
 },
 "nbformat": 4,
 "nbformat_minor": 2
}
